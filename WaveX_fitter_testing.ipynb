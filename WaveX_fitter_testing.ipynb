{
 "cells": [
  {
   "cell_type": "code",
   "execution_count": 1,
   "id": "f6f37033",
   "metadata": {},
   "outputs": [
    {
     "data": {
      "text/plain": [
       "1"
      ]
     },
     "execution_count": 1,
     "metadata": {},
     "output_type": "execute_result"
    }
   ],
   "source": [
    "import argparse\n",
    "import os\n",
    "import sys\n",
    "\n",
    "from astropy.io import fits\n",
    "\n",
    "import pint.models as models\n",
    "import pint.fermi_toas as fermi\n",
    "import numpy as np\n",
    "import astropy.units as u\n",
    "import astropy.constants as const\n",
    "from astropy.coordinates import SkyCoord\n",
    "\n",
    "import scipy.optimize as op\n",
    "import scipy.interpolate as interpolate\n",
    "import scipy.stats as ss\n",
    "import matplotlib.pyplot as plt\n",
    "\n",
    "import pint.fitter as fitter\n",
    "import pint.toa as toa\n",
    "# import presto.psr_utils as pu\n",
    "import pint.derived_quantities as pd\n",
    "import pint.residuals as pr\n",
    "import pint.simulation as ps\n",
    "from pint.utils import FTest\n",
    "from pint.plot_utils import phaseogram\n",
    "from pint.eventstats import hmw\n",
    "from pint.models import parameter as pp\n",
    "\n",
    "from scipy.linalg import cho_solve,cho_factor,solve_triangular,LinAlgError\n",
    "\n",
    "import astropy.time\n",
    "from astropy.time import TimeDelta\n",
    "from astropy.visualization import quantity_support\n",
    "\n",
    "import copy\n",
    "from pint.fitter import MaxiterReached, StepProblem\n",
    "from pint.utils import FTest\n",
    "\n",
    "import pint.logging\n",
    "from loguru import logger as log\n",
    "\n",
    "pint.logging.setup(level='INFO')"
   ]
  },
  {
   "cell_type": "code",
   "execution_count": 2,
   "id": "d8f64766",
   "metadata": {},
   "outputs": [],
   "source": [
    "def phase_wrap(model,ts):\n",
    "    res = pr.Residuals(ts,model)\n",
    "    resids = res.phase_resids\n",
    "    if np.diff(resids).max() > 0.5:\n",
    "        log.warning('Phase wrap detected')\n",
    "        for i in range(np.where(np.diff(resids)==np.diff(resids).max())[0][0]+1,len(ts)):\n",
    "            ts['delta_pulse_number'][i] += -1.0\n",
    "        res = pr.Residuals(ts,model)\n",
    "    return res, ts\n",
    "\n",
    "def res_plot(mjds,residuals,ts):\n",
    "    quantity_support()\n",
    "    plt.figure(figsize=(16,9))\n",
    "    plt.yticks(fontsize=16)\n",
    "    plt.xticks(fontsize=16)\n",
    "    plt.ylabel('Residuals',fontsize = 16)\n",
    "    plt.xlabel('MJDs',fontsize = 16)\n",
    "    plt.errorbar(mjds,residuals.time_resids,yerr=ts.get_errors(),fmt='+')\n",
    "    plt.title('Initial Residuals',fontsize=20)\n",
    "    plt.grid()\n",
    "    plt.show()"
   ]
  },
  {
   "cell_type": "code",
   "execution_count": null,
   "id": "75da01ce",
   "metadata": {},
   "outputs": [],
   "source": [
    "def wave_fitter(model,ts,nwaves=1,show_plot=False):\n",
    "    '''\n",
    "    Does a iterative fit of a no red noise model adding waves with each iteration and compares the fitted model with the previous iteration using the F-test\n",
    "    '''\n",
    "    ts.compute_pulse_numbers(model)\n",
    "    mjds = ts.get_mjds()\n",
    "    residuals, ts = phase_wrap(model,ts)\n",
    "    PM_values = []\n",
    "    PM_values.append([0,model.PMRA.value,model.PMRA.uncertainty_value,model.PMDEC.value,model.PMDEC.uncertainty_value])\n",
    "#     PM_values.append([0,model.PMELONG.value,model.PMELONG.uncertainty_value,model.PMELAT.value,model.PMELAT.uncertainty_value])\n",
    "    if show_plot:\n",
    "        res_plot(mjds,residuals,ts)\n",
    "    tspan = mjds[-1]-mjds[0]\n",
    "    for i in range(1,nwaves+1):\n",
    "        log.info(f'Fitting {i} waves')\n",
    "        # Setting up the waves within the model\n",
    "        if i == 1:\n",
    "            fit_model = copy.deepcopy(model)\n",
    "            freq = 1/tspan\n",
    "            fit_model.add_component(models.WaveX())\n",
    "            fit_model.WXFREQ_0001.value = freq\n",
    "        else:\n",
    "            fit_model = copy.deepcopy(red_fitter.model)\n",
    "            freq = i/tspan\n",
    "            fit_model.components['WaveX'].add_wavex_component(freq,i,frozen=False)\n",
    "        # Running the fitter\n",
    "        try:\n",
    "            red_fitter = fitter.Fitter.auto(ts,fit_model)\n",
    "            red_fitter.fit_toas()\n",
    "            red_fitter.update_model()\n",
    "            red_fitter.model.CHI2.value = red_fitter.resids.chi2\n",
    "            PM_values.append([i,red_fitter.model.PMRA.value,red_fitter.model.PMRA.uncertainty_value,red_fitter.model.PMDEC.value,red_fitter.model.PMDEC.uncertainty_value])   \n",
    "#             PM_values.append([i,red_fitter.model.PMELONG.value,red_fitter.model.PMELONG.uncertainty_value,red_fitter.model.PMELAT.value,red_fitter.model.PMELAT.uncertainty_value])   \n",
    "            if show_plot:\n",
    "                red_fitter.plot()\n",
    "        except (MaxiterReached, StepProblem) as e:\n",
    "            log.warning(f'{e} encountered when fitting {i} waves')\n",
    "            continue\n",
    "            \n",
    "#         # Stop criteria\n",
    "#         if red_fitter.resids_init.rms_weighted()/red_fitter.resids.rms_weighted() < 3.0:\n",
    "#             log.warning(f'The ratio of pre-fit and post-fit rms is less than 3.0 at {i} waves')\n",
    "#             break\n",
    "    return residuals, red_fitter, PM_values\n",
    "\n",
    "def iterative_wave_fitter(model,ts,nwaves=1,show_plot=False):\n",
    "    '''\n",
    "    Does a iterative fit of a no red noise model adding waves with each iteration and compares the fitted model with the previous iteration using the F-test\n",
    "    '''\n",
    "    fresh_fit = False\n",
    "    ts.compute_pulse_numbers(model)\n",
    "    mjds = ts.get_mjds()\n",
    "    residuals, ts = phase_wrap(model,ts)\n",
    "    PM_values = []\n",
    "    PM_values.append([0,model.PMRA.value,model.PMRA.uncertainty_value,model.PMDEC.value,model.PMDEC.uncertainty_value])\n",
    "#     PM_values.append([0,model.PMELONG.value,model.PMELONG.uncertainty_value,model.PMELAT.value,model.PMELAT.uncertainty_value])\n",
    "    if show_plot:\n",
    "        res_plot(mjds,residuals,ts)\n",
    "    tspan = mjds[-1]-mjds[0]\n",
    "    try:\n",
    "        model.components['WaveX']\n",
    "    except KeyError:\n",
    "        log.info(f'Model does not have any red noise components, Starting a fresh fit')\n",
    "        fresh_fit=True\n",
    "    if fresh_fit:\n",
    "        for i in range(1,nwaves+1):\n",
    "            log.info(f'Fitting {i} waves')\n",
    "            # Setting up the waves within the model\n",
    "            if i == 1:\n",
    "                fit_model = copy.deepcopy(model)\n",
    "                freq = 1/tspan\n",
    "                fit_model.add_component(models.WaveX())\n",
    "                fit_model.WXFREQ_0001.value = freq\n",
    "            else:\n",
    "                fit_model = copy.deepcopy(red_fitter.model)\n",
    "                freq = i/tspan\n",
    "                fit_model.components['WaveX'].add_wavex_component(freq,i,frozen=False)\n",
    "            # Running the fitter\n",
    "            try:\n",
    "                red_fitter = fitter.Fitter.auto(ts,fit_model)\n",
    "                red_fitter.fit_toas()\n",
    "                red_fitter.update_model()\n",
    "                red_fitter.model.CHI2.value = red_fitter.resids.chi2\n",
    "                PM_values.append([i,red_fitter.model.PMRA.value,red_fitter.model.PMRA.uncertainty_value,red_fitter.model.PMDEC.value,red_fitter.model.PMDEC.uncertainty_value])   \n",
    "#                 PM_values.append([i,red_fitter.model.PMELONG.value,red_fitter.model.PMELONG.uncertainty_value,red_fitter.model.PMELAT.value,red_fitter.model.PMELAT.uncertainty_value])   \n",
    "                if show_plot:\n",
    "                    red_fitter.plot()\n",
    "            except (MaxiterReached, StepProblem) as e:\n",
    "                log.warning(f'{e} encountered when fitting {i} waves')\n",
    "                continue\n",
    "    else:\n",
    "        last_index = model.components['WaveX'].get_indices()[-1]\n",
    "        fit_model = copy.deepcopy(model)\n",
    "        if last_index >= nwaves:\n",
    "            log.warning(f'The number of waves within the model is larger than the number of waves to be added')\n",
    "            return None,None,None\n",
    "        for i in range(last_index+1,nwaves+1):\n",
    "            log.info(f'Fitting {i} waves')\n",
    "            freq = i/tspan\n",
    "            fit_model.components['WaveX'].add_wavex_component(freq,i,frozen=False)\n",
    "            red_fitter = fitter.Fitter.auto(ts,fit_model)\n",
    "            try:\n",
    "                red_fitter.fit_toas()\n",
    "            except (MaxiterReached, StepProblem) as e:\n",
    "                log.warning(f'{e} encountered when fitting {i} waves')\n",
    "                continue\n",
    "            red_fitter.update_model()\n",
    "            red_fitter.model.CHI2.value = red_fitter.resids.chi2\n",
    "            fit_model = copy.deepcopy(red_fitter.model)\n",
    "        \n",
    "    return residuals, red_fitter, PM_values"
   ]
  },
  {
   "cell_type": "code",
   "execution_count": 16,
   "id": "f3f479e4",
   "metadata": {
    "scrolled": true
   },
   "outputs": [
    {
     "name": "stderr",
     "output_type": "stream",
     "text": [
      "\u001b[1mINFO    \u001b[0m (__main__                      ): \u001b[1mFitting 1 waves\u001b[0m\n",
      "\u001b[1mINFO    \u001b[0m (pint.fitter                   ): \u001b[1mFor narrowband TOAs without correlated errors and downhill fitter, returning 'DownhillWLSFitter'\u001b[0m\n",
      "\u001b[1mINFO    \u001b[0m (__main__                      ): \u001b[1mFitting 2 waves\u001b[0m\n",
      "\u001b[33m\u001b[1mWARNING \u001b[0m (pint.logging                  ): \u001b[33m\u001b[1m/users/dbhakta/git/PINT/src/pint/models/wavex.py:345 UserWarning: Frequency resolution is greater than 1/yr\u001b[0m\n",
      "\u001b[1mINFO    \u001b[0m (pint.fitter                   ): \u001b[1mFor narrowband TOAs without correlated errors and downhill fitter, returning 'DownhillWLSFitter'\u001b[0m\n",
      "\u001b[33m\u001b[1mWARNING \u001b[0m (pint.logging                  ): \u001b[33m\u001b[1m/users/dbhakta/git/PINT/src/pint/models/wavex.py:345 UserWarning: Frequency resolution is greater than 1/yr\u001b[0m\n",
      "\u001b[1mINFO    \u001b[0m (__main__                      ): \u001b[1mFitting 3 waves\u001b[0m\n",
      "\u001b[33m\u001b[1mWARNING \u001b[0m (pint.logging                  ): \u001b[33m\u001b[1m/users/dbhakta/git/PINT/src/pint/models/wavex.py:345 UserWarning: Frequency resolution is greater than 1/yr\u001b[0m\n",
      "\u001b[1mINFO    \u001b[0m (pint.fitter                   ): \u001b[1mFor narrowband TOAs without correlated errors and downhill fitter, returning 'DownhillWLSFitter'\u001b[0m\n",
      "\u001b[33m\u001b[1mWARNING \u001b[0m (pint.logging                  ): \u001b[33m\u001b[1m/users/dbhakta/git/PINT/src/pint/models/wavex.py:345 UserWarning: Frequency resolution is greater than 1/yr\u001b[0m\n",
      "\u001b[1mINFO    \u001b[0m (__main__                      ): \u001b[1mFitting 4 waves\u001b[0m\n",
      "\u001b[33m\u001b[1mWARNING \u001b[0m (pint.logging                  ): \u001b[33m\u001b[1m/users/dbhakta/git/PINT/src/pint/models/wavex.py:345 UserWarning: Frequency resolution is greater than 1/yr\u001b[0m\n",
      "\u001b[1mINFO    \u001b[0m (pint.fitter                   ): \u001b[1mFor narrowband TOAs without correlated errors and downhill fitter, returning 'DownhillWLSFitter'\u001b[0m\n",
      "\u001b[33m\u001b[1mWARNING \u001b[0m (pint.logging                  ): \u001b[33m\u001b[1m/users/dbhakta/git/PINT/src/pint/models/wavex.py:345 UserWarning: Frequency resolution is greater than 1/yr\u001b[0m\n",
      "\u001b[1mINFO    \u001b[0m (__main__                      ): \u001b[1mFitting 5 waves\u001b[0m\n",
      "\u001b[33m\u001b[1mWARNING \u001b[0m (pint.logging                  ): \u001b[33m\u001b[1m/users/dbhakta/git/PINT/src/pint/models/wavex.py:345 UserWarning: Frequency resolution is greater than 1/yr\u001b[0m\n",
      "\u001b[1mINFO    \u001b[0m (pint.fitter                   ): \u001b[1mFor narrowband TOAs without correlated errors and downhill fitter, returning 'DownhillWLSFitter'\u001b[0m\n",
      "\u001b[33m\u001b[1mWARNING \u001b[0m (pint.logging                  ): \u001b[33m\u001b[1m/users/dbhakta/git/PINT/src/pint/models/wavex.py:345 UserWarning: Frequency resolution is greater than 1/yr\u001b[0m\n"
     ]
    }
   ],
   "source": [
    "model, ts = models.get_model_and_toas('J2028_wrn.par', 'J2028_wrn.tim')\n",
    "# for i in model.free_params:\n",
    "#     if i.startswith('F'):\n",
    "#         model[i].frozen=True\n",
    "initial_resids, f, PM_values = wave_fitter(model,ts,nwaves=5)"
   ]
  },
  {
   "cell_type": "code",
   "execution_count": 17,
   "id": "6619617e",
   "metadata": {},
   "outputs": [
    {
     "data": {
      "image/png": "[encoded data removed]",
      "text/plain": [
       "<Figure size 640x480 with 1 Axes>"
      ]
     },
     "metadata": {},
     "output_type": "display_data"
    },
    {
     "data": {
      "image/png": "[encoded data removed]",
      "text/plain": [
       "<Figure size 640x480 with 1 Axes>"
      ]
     },
     "metadata": {},
     "output_type": "display_data"
    }
   ],
   "source": [
    "numwaves = np.arange(0,len(PM_values))\n",
    "for i in range(len(numwaves)):\n",
    "    plt.errorbar(numwaves[i],PM_values[:][i][3],yerr=PM_values[:][i][4],fmt='+')\n",
    "plt.xlabel('Number of Waves')\n",
    "plt.ylabel('Proper Motion (mas/yr)')\n",
    "plt.title('Proper Motion DEC vs. Number of Waves')\n",
    "plt.show()\n",
    "\n",
    "for i in range(len(numwaves)):\n",
    "    plt.errorbar(numwaves[i],PM_values[:][i][1],yerr=PM_values[:][i][2],fmt='+')\n",
    "plt.xlabel('Number of Waves')\n",
    "plt.ylabel('Proper Motion (mas/yr)')\n",
    "plt.title('Proper Motion RA vs. Number of Waves')\n",
    "plt.show()"
   ]
  },
  {
   "cell_type": "code",
   "execution_count": null,
   "id": "e5b9dc59",
   "metadata": {},
   "outputs": [],
   "source": []
  },
  {
   "cell_type": "code",
   "execution_count": null,
   "id": "1879712f",
   "metadata": {},
   "outputs": [],
   "source": []
  },
  {
   "cell_type": "code",
   "execution_count": null,
   "id": "1adcb6a1",
   "metadata": {},
   "outputs": [],
   "source": []
  },
  {
   "cell_type": "code",
   "execution_count": null,
   "id": "09df0c97",
   "metadata": {},
   "outputs": [],
   "source": []
  },
  {
   "cell_type": "code",
   "execution_count": null,
   "id": "a900a1d7",
   "metadata": {},
   "outputs": [],
   "source": []
  },
  {
   "cell_type": "code",
   "execution_count": null,
   "id": "590a2e9a",
   "metadata": {},
   "outputs": [],
   "source": []
  },
  {
   "cell_type": "code",
   "execution_count": null,
   "id": "770f4216",
   "metadata": {},
   "outputs": [],
   "source": []
  },
  {
   "cell_type": "code",
   "execution_count": null,
   "id": "a60a84c4",
   "metadata": {},
   "outputs": [],
   "source": []
  },
  {
   "cell_type": "code",
   "execution_count": null,
   "id": "f145299e",
   "metadata": {},
   "outputs": [],
   "source": []
  },
  {
   "cell_type": "code",
   "execution_count": null,
   "id": "1c82926b",
   "metadata": {},
   "outputs": [],
   "source": []
  },
  {
   "cell_type": "code",
   "execution_count": null,
   "id": "ce0ffb87",
   "metadata": {},
   "outputs": [],
   "source": []
  }
 ],
 "metadata": {
  "kernelspec": {
   "display_name": "Python [conda env:dbhakta-pydev] *",
   "language": "python",
   "name": "conda-env-dbhakta-pydev-py"
  },
  "language_info": {
   "codemirror_mode": {
    "name": "ipython",
    "version": 3
   },
   "file_extension": ".py",
   "mimetype": "text/x-python",
   "name": "python",
   "nbconvert_exporter": "python",
   "pygments_lexer": "ipython3",
   "version": "3.10.8"
  }
 },
 "nbformat": 4,
 "nbformat_minor": 5
}
